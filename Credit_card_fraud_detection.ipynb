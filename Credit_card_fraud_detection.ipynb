{
  "nbformat": 4,
  "nbformat_minor": 0,
  "metadata": {
    "colab": {
      "provenance": [],
      "authorship_tag": "ABX9TyOvsEe2hGdpcn4m9MEf74jD",
      "include_colab_link": true
    },
    "kernelspec": {
      "name": "python3",
      "display_name": "Python 3"
    },
    "language_info": {
      "name": "python"
    }
  },
  "cells": [
    {
      "cell_type": "markdown",
      "metadata": {
        "id": "view-in-github",
        "colab_type": "text"
      },
      "source": [
        "<a href=\"https://colab.research.google.com/github/samarasimhareddyc10-cmd/Codsoft/blob/main/Credit_card_fraud_detection.ipynb\" target=\"_parent\"><img src=\"https://colab.research.google.com/assets/colab-badge.svg\" alt=\"Open In Colab\"/></a>"
      ]
    },
    {
      "cell_type": "code",
      "execution_count": null,
      "metadata": {
        "colab": {
          "base_uri": "https://localhost:8080/"
        },
        "id": "OFpqxTBmIssR",
        "outputId": "d0f9a7f6-8da3-4214-c822-7a178b673c4c"
      },
      "outputs": [
        {
          "output_type": "stream",
          "name": "stdout",
          "text": [
            "Accuracy: 0.9\n",
            "\n",
            "Classification Report:\n",
            "               precision    recall  f1-score   support\n",
            "\n",
            "           0       0.90      1.00      0.95        18\n",
            "           1       0.00      0.00      0.00         2\n",
            "\n",
            "    accuracy                           0.90        20\n",
            "   macro avg       0.45      0.50      0.47        20\n",
            "weighted avg       0.81      0.90      0.85        20\n",
            "\n",
            "\n",
            "Confusion Matrix:\n",
            " [[18  0]\n",
            " [ 2  0]]\n"
          ]
        }
      ],
      "source": [
        "import pandas as pd\n",
        "import numpy as np\n",
        "from sklearn.model_selection import train_test_split\n",
        "from sklearn.linear_model import LogisticRegression\n",
        "from sklearn.preprocessing import StandardScaler\n",
        "from sklearn.metrics import accuracy_score, confusion_matrix, classification_report\n",
        "\n",
        "# Step 1: Generate Synthetic Data\n",
        "np.random.seed(42)\n",
        "num_samples = 100\n",
        "\n",
        "# Create features\n",
        "amount = np.random.randint(10, 1000, num_samples)\n",
        "time = np.random.randint(1, 1000, num_samples)\n",
        "feature1 = np.random.rand(num_samples)\n",
        "feature2 = np.random.rand(num_samples)\n",
        "\n",
        "# Create labels (10% fraud)\n",
        "is_fraud = np.zeros(num_samples)\n",
        "fraud_indices = np.random.choice(num_samples, size=10, replace=False)\n",
        "is_fraud[fraud_indices] = 1\n",
        "\n",
        "# Create DataFrame\n",
        "df = pd.DataFrame({\n",
        "    'Amount': amount,\n",
        "    'Time': time,\n",
        "    'Feature1': feature1,\n",
        "    'Feature2': feature2,\n",
        "    'IsFraud': is_fraud\n",
        "})\n",
        "\n",
        "# Step 2: Scale 'Amount' and 'Time'\n",
        "scaler = StandardScaler()\n",
        "df[['Amount', 'Time']] = scaler.fit_transform(df[['Amount', 'Time']])\n",
        "\n",
        "# Step 3: Features and target\n",
        "X = df[['Amount', 'Time', 'Feature1', 'Feature2']]\n",
        "y = df['IsFraud']\n",
        "\n",
        "# Step 4: Split with stratification\n",
        "X_train, X_val, y_train, y_val = train_test_split(\n",
        "    X, y, test_size=0.2, stratify=y, random_state=42\n",
        ")\n",
        "\n",
        "# Step 5: Train model\n",
        "model = LogisticRegression()\n",
        "model.fit(X_train, y_train)\n",
        "\n",
        "# Step 6: Predict\n",
        "y_pred = model.predict(X_val)\n",
        "\n",
        "# Step 7: Evaluate\n",
        "print(\"Accuracy:\", round(accuracy_score(y_val, y_pred), 2))\n",
        "print(\"\\nClassification Report:\\n\", classification_report(\n",
        "    y_val, y_pred, labels=[0, 1], zero_division=0))\n",
        "print(\"\\nConfusion Matrix:\\n\", confusion_matrix(y_val, y_pred, labels=[0, 1]))"
      ]
    }
  ]
}