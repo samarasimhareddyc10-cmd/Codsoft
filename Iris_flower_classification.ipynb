{
  "nbformat": 4,
  "nbformat_minor": 0,
  "metadata": {
    "colab": {
      "provenance": [],
      "authorship_tag": "ABX9TyNDVjzvMd6OxUW1UCmfTA1p",
      "include_colab_link": true
    },
    "kernelspec": {
      "name": "python3",
      "display_name": "Python 3"
    },
    "language_info": {
      "name": "python"
    }
  },
  "cells": [
    {
      "cell_type": "markdown",
      "metadata": {
        "id": "view-in-github",
        "colab_type": "text"
      },
      "source": [
        "<a href=\"https://colab.research.google.com/github/samarasimhareddyc10-cmd/Codsoft/blob/main/Iris_flower_classification.ipynb\" target=\"_parent\"><img src=\"https://colab.research.google.com/assets/colab-badge.svg\" alt=\"Open In Colab\"/></a>"
      ]
    },
    {
      "cell_type": "code",
      "execution_count": null,
      "metadata": {
        "colab": {
          "base_uri": "https://localhost:8080/"
        },
        "id": "vt4MwshWIKe9",
        "outputId": "f1ced848-7de8-4346-82d0-cc8ea550a3fe"
      },
      "outputs": [
        {
          "output_type": "stream",
          "name": "stdout",
          "text": [
            "Accuracy: 1.00\n",
            "              precision    recall  f1-score   support\n",
            "\n",
            "      setosa       1.00      1.00      1.00        10\n",
            "  versicolor       1.00      1.00      1.00         9\n",
            "   virginica       1.00      1.00      1.00        11\n",
            "\n",
            "    accuracy                           1.00        30\n",
            "   macro avg       1.00      1.00      1.00        30\n",
            "weighted avg       1.00      1.00      1.00        30\n",
            "\n",
            "Predicted species: setosa\n"
          ]
        }
      ],
      "source": [
        "import pandas as pd\n",
        "from sklearn.model_selection import train_test_split\n",
        "from sklearn.ensemble import RandomForestClassifier\n",
        "from sklearn.metrics import accuracy_score, classification_report\n",
        "from sklearn.datasets import load_iris\n",
        "\n",
        "# Load the Iris dataset\n",
        "iris = load_iris()\n",
        "data = pd.DataFrame(data=iris['data'], columns=iris['feature_names'])\n",
        "data['target'] = iris['target']\n",
        "data['target_names'] = [iris['target_names'][i] for i in iris['target']]\n",
        "\n",
        "# Features and target\n",
        "features = ['sepal length (cm)', 'sepal width (cm)', 'petal length (cm)', 'petal width (cm)']\n",
        "target = 'target'\n",
        "\n",
        "# Split data\n",
        "X_train, X_val, y_train, y_val = train_test_split(data[features], data[target], test_size=0.2, random_state=42)\n",
        "\n",
        "# Model training\n",
        "model = RandomForestClassifier(n_estimators=100, random_state=42)\n",
        "model.fit(X_train, y_train)\n",
        "\n",
        "# Prediction\n",
        "y_pred = model.predict(X_val)\n",
        "\n",
        "# Evaluation\n",
        "accuracy = accuracy_score(y_val, y_pred)\n",
        "print(f'Accuracy: {accuracy:.2f}')\n",
        "\n",
        "print(classification_report(y_val, y_pred, target_names=iris['target_names']))\n",
        "\n",
        "# Example prediction\n",
        "new_data = pd.DataFrame({\n",
        "    'sepal length (cm)': [5.1],\n",
        "    'sepal width (cm)': [3.5],\n",
        "    'petal length (cm)': [1.4],\n",
        "    'petal width (cm)': [0.2]\n",
        "})\n",
        "\n",
        "predicted_species = model.predict(new_data)[0]\n",
        "print(f'Predicted species: {iris['target_names'][predicted_species]}')"
      ]
    }
  ]
}